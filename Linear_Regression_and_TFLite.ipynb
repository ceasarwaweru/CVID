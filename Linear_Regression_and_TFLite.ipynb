{
  "nbformat": 4,
  "nbformat_minor": 0,
  "metadata": {
    "colab": {
      "name": "Linear_Regression_and_TFLite.ipynb",
      "provenance": []
    },
    "kernelspec": {
      "name": "python3",
      "display_name": "Python 3"
    },
    "accelerator": "GPU"
  },
  "cells": [
    {
      "cell_type": "markdown",
      "metadata": {
        "id": "TaKFIvNNU_39"
      },
      "source": [
        "# Running TFLite models"
      ]
    },
    {
      "cell_type": "code",
      "metadata": {
        "id": "zbpOJ2wNUxw_"
      },
      "source": [
        "try:\n",
        "    %tensorflow_version 2.x\n",
        "except:\n",
        "    pass"
      ],
      "execution_count": 1,
      "outputs": []
    },
    {
      "cell_type": "code",
      "metadata": {
        "id": "jaVMaov2VT7x"
      },
      "source": [
        "from __future__ import absolute_import, division, print_function, unicode_literals\n",
        "import tensorflow as tf\n",
        "\n",
        "import pathlib\n",
        "import numpy as np\n",
        "import matplotlib.pyplot as plt\n",
        "\n",
        "from tensorflow.keras.models import Model\n",
        "from tensorflow.keras.layers import Input"
      ],
      "execution_count": 2,
      "outputs": []
    },
    {
      "cell_type": "markdown",
      "metadata": {
        "id": "JcMQAZbuWM-b"
      },
      "source": [
        "## Create a basic model of the form y = mx + c"
      ]
    },
    {
      "cell_type": "code",
      "metadata": {
        "id": "yAL0P7KLWIZD",
        "colab": {
          "base_uri": "https://localhost:8080/"
        },
        "outputId": "c2f720c5-1428-435b-e4d7-538b7c386be3"
      },
      "source": [
        "x = [-1, 0, 1, 2, 3, 4]\n",
        "y = [-3, -1, 1, 3, 5, 7]\n",
        "\n",
        "model = tf.keras.Sequential([\n",
        "                             tf.keras.layers.Dense(units=1, input_shape=[1])])\n",
        "\n",
        "model.compile(optimizer='sgd', loss = 'mean_squared_error')\n",
        "model.fit(x, y, epochs=200, verbose=1)"
      ],
      "execution_count": 3,
      "outputs": [
        {
          "output_type": "stream",
          "text": [
            "Epoch 1/200\n",
            "1/1 [==============================] - 2s 2s/step - loss: 1.3177\n",
            "Epoch 2/200\n",
            "1/1 [==============================] - 0s 3ms/step - loss: 1.1701\n",
            "Epoch 3/200\n",
            "1/1 [==============================] - 0s 3ms/step - loss: 1.0512\n",
            "Epoch 4/200\n",
            "1/1 [==============================] - 0s 3ms/step - loss: 0.9550\n",
            "Epoch 5/200\n",
            "1/1 [==============================] - 0s 3ms/step - loss: 0.8767\n",
            "Epoch 6/200\n",
            "1/1 [==============================] - 0s 7ms/step - loss: 0.8125\n",
            "Epoch 7/200\n",
            "1/1 [==============================] - 0s 3ms/step - loss: 0.7595\n",
            "Epoch 8/200\n",
            "1/1 [==============================] - 0s 3ms/step - loss: 0.7153\n",
            "Epoch 9/200\n",
            "1/1 [==============================] - 0s 3ms/step - loss: 0.6781\n",
            "Epoch 10/200\n",
            "1/1 [==============================] - 0s 3ms/step - loss: 0.6465\n",
            "Epoch 11/200\n",
            "1/1 [==============================] - 0s 3ms/step - loss: 0.6193\n",
            "Epoch 12/200\n",
            "1/1 [==============================] - 0s 3ms/step - loss: 0.5956\n",
            "Epoch 13/200\n",
            "1/1 [==============================] - 0s 3ms/step - loss: 0.5748\n",
            "Epoch 14/200\n",
            "1/1 [==============================] - 0s 3ms/step - loss: 0.5562\n",
            "Epoch 15/200\n",
            "1/1 [==============================] - 0s 3ms/step - loss: 0.5395\n",
            "Epoch 16/200\n",
            "1/1 [==============================] - 0s 3ms/step - loss: 0.5242\n",
            "Epoch 17/200\n",
            "1/1 [==============================] - 0s 3ms/step - loss: 0.5101\n",
            "Epoch 18/200\n",
            "1/1 [==============================] - 0s 3ms/step - loss: 0.4970\n",
            "Epoch 19/200\n",
            "1/1 [==============================] - 0s 3ms/step - loss: 0.4848\n",
            "Epoch 20/200\n",
            "1/1 [==============================] - 0s 3ms/step - loss: 0.4732\n",
            "Epoch 21/200\n",
            "1/1 [==============================] - 0s 3ms/step - loss: 0.4622\n",
            "Epoch 22/200\n",
            "1/1 [==============================] - 0s 3ms/step - loss: 0.4517\n",
            "Epoch 23/200\n",
            "1/1 [==============================] - 0s 3ms/step - loss: 0.4417\n",
            "Epoch 24/200\n",
            "1/1 [==============================] - 0s 5ms/step - loss: 0.4320\n",
            "Epoch 25/200\n",
            "1/1 [==============================] - 0s 5ms/step - loss: 0.4226\n",
            "Epoch 26/200\n",
            "1/1 [==============================] - 0s 3ms/step - loss: 0.4136\n",
            "Epoch 27/200\n",
            "1/1 [==============================] - 0s 4ms/step - loss: 0.4048\n",
            "Epoch 28/200\n",
            "1/1 [==============================] - 0s 3ms/step - loss: 0.3962\n",
            "Epoch 29/200\n",
            "1/1 [==============================] - 0s 4ms/step - loss: 0.3879\n",
            "Epoch 30/200\n",
            "1/1 [==============================] - 0s 3ms/step - loss: 0.3798\n",
            "Epoch 31/200\n",
            "1/1 [==============================] - 0s 4ms/step - loss: 0.3719\n",
            "Epoch 32/200\n",
            "1/1 [==============================] - 0s 6ms/step - loss: 0.3641\n",
            "Epoch 33/200\n",
            "1/1 [==============================] - 0s 6ms/step - loss: 0.3566\n",
            "Epoch 34/200\n",
            "1/1 [==============================] - 0s 3ms/step - loss: 0.3492\n",
            "Epoch 35/200\n",
            "1/1 [==============================] - 0s 3ms/step - loss: 0.3420\n",
            "Epoch 36/200\n",
            "1/1 [==============================] - 0s 5ms/step - loss: 0.3349\n",
            "Epoch 37/200\n",
            "1/1 [==============================] - 0s 3ms/step - loss: 0.3280\n",
            "Epoch 38/200\n",
            "1/1 [==============================] - 0s 3ms/step - loss: 0.3213\n",
            "Epoch 39/200\n",
            "1/1 [==============================] - 0s 4ms/step - loss: 0.3147\n",
            "Epoch 40/200\n",
            "1/1 [==============================] - 0s 3ms/step - loss: 0.3082\n",
            "Epoch 41/200\n",
            "1/1 [==============================] - 0s 3ms/step - loss: 0.3018\n",
            "Epoch 42/200\n",
            "1/1 [==============================] - 0s 3ms/step - loss: 0.2956\n",
            "Epoch 43/200\n",
            "1/1 [==============================] - 0s 5ms/step - loss: 0.2895\n",
            "Epoch 44/200\n",
            "1/1 [==============================] - 0s 3ms/step - loss: 0.2836\n",
            "Epoch 45/200\n",
            "1/1 [==============================] - 0s 3ms/step - loss: 0.2778\n",
            "Epoch 46/200\n",
            "1/1 [==============================] - 0s 3ms/step - loss: 0.2721\n",
            "Epoch 47/200\n",
            "1/1 [==============================] - 0s 3ms/step - loss: 0.2665\n",
            "Epoch 48/200\n",
            "1/1 [==============================] - 0s 8ms/step - loss: 0.2610\n",
            "Epoch 49/200\n",
            "1/1 [==============================] - 0s 4ms/step - loss: 0.2556\n",
            "Epoch 50/200\n",
            "1/1 [==============================] - 0s 3ms/step - loss: 0.2504\n",
            "Epoch 51/200\n",
            "1/1 [==============================] - 0s 3ms/step - loss: 0.2452\n",
            "Epoch 52/200\n",
            "1/1 [==============================] - 0s 3ms/step - loss: 0.2402\n",
            "Epoch 53/200\n",
            "1/1 [==============================] - 0s 3ms/step - loss: 0.2353\n",
            "Epoch 54/200\n",
            "1/1 [==============================] - 0s 3ms/step - loss: 0.2304\n",
            "Epoch 55/200\n",
            "1/1 [==============================] - 0s 3ms/step - loss: 0.2257\n",
            "Epoch 56/200\n",
            "1/1 [==============================] - 0s 3ms/step - loss: 0.2211\n",
            "Epoch 57/200\n",
            "1/1 [==============================] - 0s 3ms/step - loss: 0.2165\n",
            "Epoch 58/200\n",
            "1/1 [==============================] - 0s 3ms/step - loss: 0.2121\n",
            "Epoch 59/200\n",
            "1/1 [==============================] - 0s 3ms/step - loss: 0.2077\n",
            "Epoch 60/200\n",
            "1/1 [==============================] - 0s 4ms/step - loss: 0.2034\n",
            "Epoch 61/200\n",
            "1/1 [==============================] - 0s 4ms/step - loss: 0.1993\n",
            "Epoch 62/200\n",
            "1/1 [==============================] - 0s 3ms/step - loss: 0.1952\n",
            "Epoch 63/200\n",
            "1/1 [==============================] - 0s 7ms/step - loss: 0.1912\n",
            "Epoch 64/200\n",
            "1/1 [==============================] - 0s 5ms/step - loss: 0.1872\n",
            "Epoch 65/200\n",
            "1/1 [==============================] - 0s 4ms/step - loss: 0.1834\n",
            "Epoch 66/200\n",
            "1/1 [==============================] - 0s 3ms/step - loss: 0.1796\n",
            "Epoch 67/200\n",
            "1/1 [==============================] - 0s 10ms/step - loss: 0.1759\n",
            "Epoch 68/200\n",
            "1/1 [==============================] - 0s 6ms/step - loss: 0.1723\n",
            "Epoch 69/200\n",
            "1/1 [==============================] - 0s 3ms/step - loss: 0.1688\n",
            "Epoch 70/200\n",
            "1/1 [==============================] - 0s 5ms/step - loss: 0.1653\n",
            "Epoch 71/200\n",
            "1/1 [==============================] - 0s 3ms/step - loss: 0.1619\n",
            "Epoch 72/200\n",
            "1/1 [==============================] - 0s 5ms/step - loss: 0.1586\n",
            "Epoch 73/200\n",
            "1/1 [==============================] - 0s 4ms/step - loss: 0.1553\n",
            "Epoch 74/200\n",
            "1/1 [==============================] - 0s 3ms/step - loss: 0.1521\n",
            "Epoch 75/200\n",
            "1/1 [==============================] - 0s 3ms/step - loss: 0.1490\n",
            "Epoch 76/200\n",
            "1/1 [==============================] - 0s 3ms/step - loss: 0.1460\n",
            "Epoch 77/200\n",
            "1/1 [==============================] - 0s 3ms/step - loss: 0.1430\n",
            "Epoch 78/200\n",
            "1/1 [==============================] - 0s 3ms/step - loss: 0.1400\n",
            "Epoch 79/200\n",
            "1/1 [==============================] - 0s 6ms/step - loss: 0.1371\n",
            "Epoch 80/200\n",
            "1/1 [==============================] - 0s 5ms/step - loss: 0.1343\n",
            "Epoch 81/200\n",
            "1/1 [==============================] - 0s 3ms/step - loss: 0.1316\n",
            "Epoch 82/200\n",
            "1/1 [==============================] - 0s 3ms/step - loss: 0.1289\n",
            "Epoch 83/200\n",
            "1/1 [==============================] - 0s 3ms/step - loss: 0.1262\n",
            "Epoch 84/200\n",
            "1/1 [==============================] - 0s 5ms/step - loss: 0.1236\n",
            "Epoch 85/200\n",
            "1/1 [==============================] - 0s 3ms/step - loss: 0.1211\n",
            "Epoch 86/200\n",
            "1/1 [==============================] - 0s 3ms/step - loss: 0.1186\n",
            "Epoch 87/200\n",
            "1/1 [==============================] - 0s 3ms/step - loss: 0.1162\n",
            "Epoch 88/200\n",
            "1/1 [==============================] - 0s 3ms/step - loss: 0.1138\n",
            "Epoch 89/200\n",
            "1/1 [==============================] - 0s 3ms/step - loss: 0.1114\n",
            "Epoch 90/200\n",
            "1/1 [==============================] - 0s 10ms/step - loss: 0.1092\n",
            "Epoch 91/200\n",
            "1/1 [==============================] - 0s 3ms/step - loss: 0.1069\n",
            "Epoch 92/200\n",
            "1/1 [==============================] - 0s 3ms/step - loss: 0.1047\n",
            "Epoch 93/200\n",
            "1/1 [==============================] - 0s 3ms/step - loss: 0.1026\n",
            "Epoch 94/200\n",
            "1/1 [==============================] - 0s 3ms/step - loss: 0.1005\n",
            "Epoch 95/200\n",
            "1/1 [==============================] - 0s 3ms/step - loss: 0.0984\n",
            "Epoch 96/200\n",
            "1/1 [==============================] - 0s 4ms/step - loss: 0.0964\n",
            "Epoch 97/200\n",
            "1/1 [==============================] - 0s 3ms/step - loss: 0.0944\n",
            "Epoch 98/200\n",
            "1/1 [==============================] - 0s 3ms/step - loss: 0.0925\n",
            "Epoch 99/200\n",
            "1/1 [==============================] - 0s 4ms/step - loss: 0.0906\n",
            "Epoch 100/200\n",
            "1/1 [==============================] - 0s 5ms/step - loss: 0.0887\n",
            "Epoch 101/200\n",
            "1/1 [==============================] - 0s 3ms/step - loss: 0.0869\n",
            "Epoch 102/200\n",
            "1/1 [==============================] - 0s 3ms/step - loss: 0.0851\n",
            "Epoch 103/200\n",
            "1/1 [==============================] - 0s 3ms/step - loss: 0.0833\n",
            "Epoch 104/200\n",
            "1/1 [==============================] - 0s 3ms/step - loss: 0.0816\n",
            "Epoch 105/200\n",
            "1/1 [==============================] - 0s 3ms/step - loss: 0.0800\n",
            "Epoch 106/200\n",
            "1/1 [==============================] - 0s 3ms/step - loss: 0.0783\n",
            "Epoch 107/200\n",
            "1/1 [==============================] - 0s 3ms/step - loss: 0.0767\n",
            "Epoch 108/200\n",
            "1/1 [==============================] - 0s 3ms/step - loss: 0.0751\n",
            "Epoch 109/200\n",
            "1/1 [==============================] - 0s 3ms/step - loss: 0.0736\n",
            "Epoch 110/200\n",
            "1/1 [==============================] - 0s 3ms/step - loss: 0.0721\n",
            "Epoch 111/200\n",
            "1/1 [==============================] - 0s 3ms/step - loss: 0.0706\n",
            "Epoch 112/200\n",
            "1/1 [==============================] - 0s 3ms/step - loss: 0.0691\n",
            "Epoch 113/200\n",
            "1/1 [==============================] - 0s 5ms/step - loss: 0.0677\n",
            "Epoch 114/200\n",
            "1/1 [==============================] - 0s 3ms/step - loss: 0.0663\n",
            "Epoch 115/200\n",
            "1/1 [==============================] - 0s 4ms/step - loss: 0.0650\n",
            "Epoch 116/200\n",
            "1/1 [==============================] - 0s 3ms/step - loss: 0.0636\n",
            "Epoch 117/200\n",
            "1/1 [==============================] - 0s 3ms/step - loss: 0.0623\n",
            "Epoch 118/200\n",
            "1/1 [==============================] - 0s 3ms/step - loss: 0.0610\n",
            "Epoch 119/200\n",
            "1/1 [==============================] - 0s 3ms/step - loss: 0.0598\n",
            "Epoch 120/200\n",
            "1/1 [==============================] - 0s 4ms/step - loss: 0.0586\n",
            "Epoch 121/200\n",
            "1/1 [==============================] - 0s 3ms/step - loss: 0.0574\n",
            "Epoch 122/200\n",
            "1/1 [==============================] - 0s 3ms/step - loss: 0.0562\n",
            "Epoch 123/200\n",
            "1/1 [==============================] - 0s 3ms/step - loss: 0.0550\n",
            "Epoch 124/200\n",
            "1/1 [==============================] - 0s 3ms/step - loss: 0.0539\n",
            "Epoch 125/200\n",
            "1/1 [==============================] - 0s 3ms/step - loss: 0.0528\n",
            "Epoch 126/200\n",
            "1/1 [==============================] - 0s 3ms/step - loss: 0.0517\n",
            "Epoch 127/200\n",
            "1/1 [==============================] - 0s 3ms/step - loss: 0.0506\n",
            "Epoch 128/200\n",
            "1/1 [==============================] - 0s 6ms/step - loss: 0.0496\n",
            "Epoch 129/200\n",
            "1/1 [==============================] - 0s 3ms/step - loss: 0.0486\n",
            "Epoch 130/200\n",
            "1/1 [==============================] - 0s 6ms/step - loss: 0.0476\n",
            "Epoch 131/200\n",
            "1/1 [==============================] - 0s 3ms/step - loss: 0.0466\n",
            "Epoch 132/200\n",
            "1/1 [==============================] - 0s 3ms/step - loss: 0.0457\n",
            "Epoch 133/200\n",
            "1/1 [==============================] - 0s 3ms/step - loss: 0.0447\n",
            "Epoch 134/200\n",
            "1/1 [==============================] - 0s 3ms/step - loss: 0.0438\n",
            "Epoch 135/200\n",
            "1/1 [==============================] - 0s 3ms/step - loss: 0.0429\n",
            "Epoch 136/200\n",
            "1/1 [==============================] - 0s 4ms/step - loss: 0.0420\n",
            "Epoch 137/200\n",
            "1/1 [==============================] - 0s 4ms/step - loss: 0.0412\n",
            "Epoch 138/200\n",
            "1/1 [==============================] - 0s 3ms/step - loss: 0.0403\n",
            "Epoch 139/200\n",
            "1/1 [==============================] - 0s 3ms/step - loss: 0.0395\n",
            "Epoch 140/200\n",
            "1/1 [==============================] - 0s 3ms/step - loss: 0.0387\n",
            "Epoch 141/200\n",
            "1/1 [==============================] - 0s 4ms/step - loss: 0.0379\n",
            "Epoch 142/200\n",
            "1/1 [==============================] - 0s 6ms/step - loss: 0.0371\n",
            "Epoch 143/200\n",
            "1/1 [==============================] - 0s 3ms/step - loss: 0.0363\n",
            "Epoch 144/200\n",
            "1/1 [==============================] - 0s 6ms/step - loss: 0.0356\n",
            "Epoch 145/200\n",
            "1/1 [==============================] - 0s 3ms/step - loss: 0.0349\n",
            "Epoch 146/200\n",
            "1/1 [==============================] - 0s 6ms/step - loss: 0.0341\n",
            "Epoch 147/200\n",
            "1/1 [==============================] - 0s 3ms/step - loss: 0.0334\n",
            "Epoch 148/200\n",
            "1/1 [==============================] - 0s 3ms/step - loss: 0.0328\n",
            "Epoch 149/200\n",
            "1/1 [==============================] - 0s 3ms/step - loss: 0.0321\n",
            "Epoch 150/200\n",
            "1/1 [==============================] - 0s 3ms/step - loss: 0.0314\n",
            "Epoch 151/200\n",
            "1/1 [==============================] - 0s 3ms/step - loss: 0.0308\n",
            "Epoch 152/200\n",
            "1/1 [==============================] - 0s 3ms/step - loss: 0.0301\n",
            "Epoch 153/200\n",
            "1/1 [==============================] - 0s 7ms/step - loss: 0.0295\n",
            "Epoch 154/200\n",
            "1/1 [==============================] - 0s 3ms/step - loss: 0.0289\n",
            "Epoch 155/200\n",
            "1/1 [==============================] - 0s 4ms/step - loss: 0.0283\n",
            "Epoch 156/200\n",
            "1/1 [==============================] - 0s 4ms/step - loss: 0.0277\n",
            "Epoch 157/200\n",
            "1/1 [==============================] - 0s 7ms/step - loss: 0.0272\n",
            "Epoch 158/200\n",
            "1/1 [==============================] - 0s 3ms/step - loss: 0.0266\n",
            "Epoch 159/200\n",
            "1/1 [==============================] - 0s 7ms/step - loss: 0.0261\n",
            "Epoch 160/200\n",
            "1/1 [==============================] - 0s 3ms/step - loss: 0.0255\n",
            "Epoch 161/200\n",
            "1/1 [==============================] - 0s 3ms/step - loss: 0.0250\n",
            "Epoch 162/200\n",
            "1/1 [==============================] - 0s 4ms/step - loss: 0.0245\n",
            "Epoch 163/200\n",
            "1/1 [==============================] - 0s 4ms/step - loss: 0.0240\n",
            "Epoch 164/200\n",
            "1/1 [==============================] - 0s 9ms/step - loss: 0.0235\n",
            "Epoch 165/200\n",
            "1/1 [==============================] - 0s 9ms/step - loss: 0.0230\n",
            "Epoch 166/200\n",
            "1/1 [==============================] - 0s 3ms/step - loss: 0.0225\n",
            "Epoch 167/200\n",
            "1/1 [==============================] - 0s 3ms/step - loss: 0.0221\n",
            "Epoch 168/200\n",
            "1/1 [==============================] - 0s 3ms/step - loss: 0.0216\n",
            "Epoch 169/200\n",
            "1/1 [==============================] - 0s 5ms/step - loss: 0.0212\n",
            "Epoch 170/200\n",
            "1/1 [==============================] - 0s 6ms/step - loss: 0.0207\n",
            "Epoch 171/200\n",
            "1/1 [==============================] - 0s 5ms/step - loss: 0.0203\n",
            "Epoch 172/200\n",
            "1/1 [==============================] - 0s 7ms/step - loss: 0.0199\n",
            "Epoch 173/200\n",
            "1/1 [==============================] - 0s 3ms/step - loss: 0.0195\n",
            "Epoch 174/200\n",
            "1/1 [==============================] - 0s 3ms/step - loss: 0.0191\n",
            "Epoch 175/200\n",
            "1/1 [==============================] - 0s 4ms/step - loss: 0.0187\n",
            "Epoch 176/200\n",
            "1/1 [==============================] - 0s 3ms/step - loss: 0.0183\n",
            "Epoch 177/200\n",
            "1/1 [==============================] - 0s 3ms/step - loss: 0.0179\n",
            "Epoch 178/200\n",
            "1/1 [==============================] - 0s 3ms/step - loss: 0.0176\n",
            "Epoch 179/200\n",
            "1/1 [==============================] - 0s 3ms/step - loss: 0.0172\n",
            "Epoch 180/200\n",
            "1/1 [==============================] - 0s 3ms/step - loss: 0.0169\n",
            "Epoch 181/200\n",
            "1/1 [==============================] - 0s 3ms/step - loss: 0.0165\n",
            "Epoch 182/200\n",
            "1/1 [==============================] - 0s 6ms/step - loss: 0.0162\n",
            "Epoch 183/200\n",
            "1/1 [==============================] - 0s 8ms/step - loss: 0.0158\n",
            "Epoch 184/200\n",
            "1/1 [==============================] - 0s 7ms/step - loss: 0.0155\n",
            "Epoch 185/200\n",
            "1/1 [==============================] - 0s 3ms/step - loss: 0.0152\n",
            "Epoch 186/200\n",
            "1/1 [==============================] - 0s 4ms/step - loss: 0.0149\n",
            "Epoch 187/200\n",
            "1/1 [==============================] - 0s 5ms/step - loss: 0.0146\n",
            "Epoch 188/200\n",
            "1/1 [==============================] - 0s 3ms/step - loss: 0.0143\n",
            "Epoch 189/200\n",
            "1/1 [==============================] - 0s 3ms/step - loss: 0.0140\n",
            "Epoch 190/200\n",
            "1/1 [==============================] - 0s 3ms/step - loss: 0.0137\n",
            "Epoch 191/200\n",
            "1/1 [==============================] - 0s 3ms/step - loss: 0.0134\n",
            "Epoch 192/200\n",
            "1/1 [==============================] - 0s 3ms/step - loss: 0.0131\n",
            "Epoch 193/200\n",
            "1/1 [==============================] - 0s 5ms/step - loss: 0.0129\n",
            "Epoch 194/200\n",
            "1/1 [==============================] - 0s 3ms/step - loss: 0.0126\n",
            "Epoch 195/200\n",
            "1/1 [==============================] - 0s 6ms/step - loss: 0.0123\n",
            "Epoch 196/200\n",
            "1/1 [==============================] - 0s 3ms/step - loss: 0.0121\n",
            "Epoch 197/200\n",
            "1/1 [==============================] - 0s 8ms/step - loss: 0.0118\n",
            "Epoch 198/200\n",
            "1/1 [==============================] - 0s 6ms/step - loss: 0.0116\n",
            "Epoch 199/200\n",
            "1/1 [==============================] - 0s 3ms/step - loss: 0.0114\n",
            "Epoch 200/200\n",
            "1/1 [==============================] - 0s 3ms/step - loss: 0.0111\n"
          ],
          "name": "stdout"
        },
        {
          "output_type": "execute_result",
          "data": {
            "text/plain": [
              "<tensorflow.python.keras.callbacks.History at 0x7f6594512358>"
            ]
          },
          "metadata": {
            "tags": []
          },
          "execution_count": 3
        }
      ]
    },
    {
      "cell_type": "markdown",
      "metadata": {
        "id": "0ZnZOUAyXF7V"
      },
      "source": [
        "## Generate a SavedModel"
      ]
    },
    {
      "cell_type": "code",
      "metadata": {
        "id": "mhujN5DFW3BM",
        "colab": {
          "base_uri": "https://localhost:8080/"
        },
        "outputId": "c57bbb73-a4c7-4f98-dd4f-27ddab8fd35c"
      },
      "source": [
        "export_dir = 'saved_model/1'\n",
        "tf.saved_model.save(model, export_dir)"
      ],
      "execution_count": 4,
      "outputs": [
        {
          "output_type": "stream",
          "text": [
            "INFO:tensorflow:Assets written to: saved_model/1/assets\n"
          ],
          "name": "stdout"
        }
      ]
    },
    {
      "cell_type": "markdown",
      "metadata": {
        "id": "_mt4_OH-XXGl"
      },
      "source": [
        "## Convert the SavedModel to TFLite"
      ]
    },
    {
      "cell_type": "code",
      "metadata": {
        "id": "RlAOsllYXTQa"
      },
      "source": [
        "# convert the model\n",
        "converter = tf.lite.TFLiteConverter.from_saved_model(export_dir)\n",
        "tflite_model = converter.convert()"
      ],
      "execution_count": 5,
      "outputs": []
    },
    {
      "cell_type": "code",
      "metadata": {
        "id": "A_MbfR-fZmVf",
        "colab": {
          "base_uri": "https://localhost:8080/"
        },
        "outputId": "174bce8c-006f-4353-b413-d718c648fffb"
      },
      "source": [
        "tflite_model_file = pathlib.Path('model.tflite')\n",
        "tflite_model_file.write_bytes(tflite_model)"
      ],
      "execution_count": 6,
      "outputs": [
        {
          "output_type": "execute_result",
          "data": {
            "text/plain": [
              "896"
            ]
          },
          "metadata": {
            "tags": []
          },
          "execution_count": 6
        }
      ]
    },
    {
      "cell_type": "markdown",
      "metadata": {
        "id": "zaMdz3DZZ58b"
      },
      "source": [
        "## Initialize the TFLite interpreter to try it out"
      ]
    },
    {
      "cell_type": "code",
      "metadata": {
        "id": "D_GFJJpfZ21J"
      },
      "source": [
        "# Load TFLite model and allocate tensors.\n",
        "interpreter = tf.lite.Interpreter(model_content=tflite_model)\n",
        "interpreter.allocate_tensors()\n",
        "\n",
        "# Get input and output tensors.\n",
        "input_details = interpreter.get_input_details()\n",
        "output_details = interpreter.get_output_details()"
      ],
      "execution_count": 7,
      "outputs": []
    },
    {
      "cell_type": "code",
      "metadata": {
        "id": "OLDLjdxfhi2p"
      },
      "source": [
        "# Test the TensorFlow Lite model on random input data.\n",
        "input_shape = input_details[0]['shape']\n",
        "inputs, outputs = [], []\n",
        "for _ in range(100):\n",
        "  input_data = np.array(np.random.random_sample(input_shape), dtype=np.float32)\n",
        "  interpreter.set_tensor(input_details[0]['index'], input_data)\n",
        "\n",
        "  interpreter.invoke()\n",
        "  tflite_results = interpreter.get_tensor(output_details[0]['index'])\n",
        "\n",
        "  # Test the TensorFlow model on random input data.\n",
        "  tf_results = model(tf.constant(input_data))\n",
        "  output_data = np.array(tf_results)\n",
        "  \n",
        "  inputs.append(input_data[0][0])\n",
        "  outputs.append(output_data[0][0])"
      ],
      "execution_count": 8,
      "outputs": []
    },
    {
      "cell_type": "code",
      "metadata": {
        "id": "iT7bYXcYioYu",
        "colab": {
          "base_uri": "https://localhost:8080/",
          "height": 265
        },
        "outputId": "10281fef-dfda-4696-e8c7-2bb9af50d108"
      },
      "source": [
        "plt.plot(inputs, outputs, 'r')\n",
        "plt.show()"
      ],
      "execution_count": 9,
      "outputs": [
        {
          "output_type": "display_data",
          "data": {
            "image/png": "[encoded data removed]",
            "text/plain": [
              "<Figure size 432x288 with 1 Axes>"
            ]
          },
          "metadata": {
            "tags": [],
            "needs_background": "light"
          }
        }
      ]
    },
    {
      "cell_type": "code",
      "metadata": {
        "id": "AEFoo_p_iq82"
      },
      "source": [
        ""
      ],
      "execution_count": 9,
      "outputs": []
    }
  ]
}