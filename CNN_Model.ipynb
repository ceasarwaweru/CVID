{
  "nbformat": 4,
  "nbformat_minor": 0,
  "metadata": {
    "kernelspec": {
      "display_name": "Python 3",
      "language": "python",
      "name": "python3"
    },
    "language_info": {
      "codemirror_mode": {
        "name": "ipython",
        "version": 3
      },
      "file_extension": ".py",
      "mimetype": "text/x-python",
      "name": "python",
      "nbconvert_exporter": "python",
      "pygments_lexer": "ipython3",
      "version": "3.7.7"
    },
    "colab": {
      "name": "CNN Model.ipynb",
      "provenance": []
    }
  },
  "cells": [
    {
      "cell_type": "code",
      "metadata": {
        "id": "SsCgBdOndwo1"
      },
      "source": [
        "import torch\n",
        "import numpy as np\n",
        "import torch.nn as nn\n",
        "import torch.nn.functional as F\n",
        "import matplotlib.pyplot as plt\n",
        "import torch.optim as optim\n",
        "import pandas as pd\n",
        "import cv2\n",
        "import os\n",
        "import numpy as np\n",
        "import pydicom as dicom\n",
        "import pydicom.uid\n",
        "import json\n",
        "from sklearn.model_selection import train_test_split"
      ],
      "execution_count": null,
      "outputs": []
    },
    {
      "cell_type": "code",
      "metadata": {
        "id": "CFKEBqthdwpB"
      },
      "source": [
        "#make list for images and labels and add by collecting from each source\n",
        "images = []\n",
        "labels = []\n",
        "\n",
        "#function to read images from sources 1,2,7\n",
        "def get_images(path,condition):\n",
        "    img_name = list(os.listdir(path))   # list of names\n",
        "    for i in img_name:\n",
        "        img_path = os.path.join(path,i)\n",
        "        image = cv2.imread(img_path,cv2.IMREAD_GRAYSCALE)   # reading images\n",
        "        image=cv2.resize(image,(28,28))\n",
        "        image= image.reshape(1,28,28)\n",
        "        images.append(image)               #adding images to images list\n",
        "        labels.append(condition)           #adding respective labels to labels list"
      ],
      "execution_count": null,
      "outputs": []
    },
    {
      "cell_type": "code",
      "metadata": {
        "id": "kf8C7gw0dwpC"
      },
      "source": [
        "#importing images from source 1,2,7\n",
        "# it is given that images from all these sources are positive cases\n",
        "# so we are using 1 for positive condition and 0 for negative\n",
        "path = \"C:/Users/Lenovo/OneDrive/Documents/CSProject/covid/Covid19action-radiology-CXR_v1.1/images\"\n",
        "path_1 = path+\"/Source1\"\n",
        "path_2 = path+\"/Source2\"\n",
        "path_7 = path+\"/Source7\"\n",
        "\n",
        "# given these are positive cases from readme file\n",
        "get_images(path_1,1)\n",
        "get_images(path_2,1)\n",
        "get_images(path_7,1)"
      ],
      "execution_count": null,
      "outputs": []
    },
    {
      "cell_type": "code",
      "metadata": {
        "id": "8sWLZ-IGdwpD",
        "outputId": "4379a015-4c15-482a-a629-ed2246da16a2"
      },
      "source": [
        "print(images[0].shape)\n",
        "print(len(labels))"
      ],
      "execution_count": null,
      "outputs": [
        {
          "output_type": "stream",
          "text": [
            "(1, 28, 28)\n",
            "199\n"
          ],
          "name": "stdout"
        }
      ]
    },
    {
      "cell_type": "code",
      "metadata": {
        "id": "AT8DzIivdwpE"
      },
      "source": [
        "#reading lalbels from jasom file and condition was given there\n",
        "\n",
        "def img_from_json_and_other(path,name):\n",
        "    img_name = list(os.listdir(path))\n",
        "    #print(name)\n",
        "    #print(img_name)\n",
        "    for i in img_name:\n",
        "        img_path = os.path.join(path,i)\n",
        "        image = cv2.imread(img_path,cv2.IMREAD_GRAYSCALE)\n",
        "        image = cv2.resize(image,(28,28))\n",
        "        image = image.reshape(1,28,28)\n",
        "        #print(img_path)\n",
        "        if i in name:\n",
        "            images.append(image)\n",
        "            labels.append(name[i])"
      ],
      "execution_count": null,
      "outputs": []
    },
    {
      "cell_type": "code",
      "metadata": {
        "id": "Pb4X459ldwpE"
      },
      "source": [
        "# importing images from source 5\n",
        "# it has its labels in json file\n",
        "\n",
        "annotation_path=\"C:/Users/Lenovo/OneDrive/Documents/CSProject/Covid/annotations/annotation_file.json\"\n",
        "f = open(annotation_path,) \n",
        "data = json.load(f)  #data given in json file\n",
        "filename=dict()\n",
        "x=data['images']        #from 'images' list in json file we have information of images\n",
        "for i in x:\n",
        "    file=i['file_name']     #file name is id of the patient \n",
        "    type_covid=i['metadata']     #in metadata we have condition of patient\n",
        "    if type_covid['finding']=='COVID_19':\n",
        "        filename[file]=1\n",
        "    else:\n",
        "        filename[file]=0\n",
        "        \n",
        "path_5=\"C:/Users/Lenovo/OneDrive/Documents/CSProject/Covid/images\"\n",
        "img_from_json_and_other(path = path_5,name = filename)"
      ],
      "execution_count": null,
      "outputs": []
    },
    {
      "cell_type": "code",
      "metadata": {
        "id": "HZ6r030wdwpF"
      },
      "source": [
        "# in the same source 5 we have metadata.csv labelling file for remaining images\n",
        "csv_path = \"C:/Users/Lenovo/OneDrive/Documents/CSProject/Covid/metadata.csv\"\n",
        "names_file = pd.read_csv(csv_path,usecols=['filename','finding'])\n",
        "filename2 = dict()\n",
        "for i,row in names_file.iterrows():\n",
        "    if row['finding'] == 'COVID-19':\n",
        "        filename2[row[\"filename\"]] = 1\n",
        "    else:\n",
        "        filename2[row[\"filename\"]] = 0\n",
        "\n",
        "img_from_json_and_other(path = path_5,name = filename2)"
      ],
      "execution_count": null,
      "outputs": []
    },
    {
      "cell_type": "code",
      "metadata": {
        "id": "ltPZVNBXdwpF",
        "outputId": "33355804-b934-4b7c-e779-3015914915d5"
      },
      "source": [
        "#importing from\n",
        "len(images)"
      ],
      "execution_count": null,
      "outputs": [
        {
          "output_type": "execute_result",
          "data": {
            "text/plain": [
              "1013"
            ]
          },
          "metadata": {
            "tags": []
          },
          "execution_count": 323
        }
      ]
    },
    {
      "cell_type": "code",
      "metadata": {
        "id": "q6quX8HZdwpG"
      },
      "source": [
        "#importing images from source_6 \n",
        "#we have made a dictionary for storing name and condition of thee patient\n",
        "\n",
        "filename3 = dict()\n",
        "path_6 = \"C:/Users/Lenovo/OneDrive/Documents/CSProject/covid/New folder/Figure1-COVID-chestxray-dataset-master\"\n",
        "names_file_2 = pd.read_csv(path_6+'/metadata.csv',usecols=['patientid','finding'])\n",
        "for i,row in names_file_2.iterrows():\n",
        "    if row['finding'] == 'COVID-19':\n",
        "        filename3[row['patientid']+'.jpg'] = 1\n",
        "    else:\n",
        "        filename3[row['patientid']+'.jpg'] = 0\n",
        "\n",
        "img_from_json(path = path_6+'/images',name = filename3)"
      ],
      "execution_count": null,
      "outputs": []
    },
    {
      "cell_type": "code",
      "metadata": {
        "id": "7oMn0vl9dwpH"
      },
      "source": [
        "#importing images from source_3 (these are 3000 images which are left for testing in that dataset)\n",
        "#these are images of pneumonia patients so we consider COVID-19 negative\n",
        "\n",
        "path_3 = 'C:/Users/Lenovo/OneDrive/Documents/CSProject/covid/New folder (3)/images'\n",
        "\n",
        "#make list for images and labels and add by collecting from each source\n",
        "img_name = list(os.listdir(path_4))\n",
        "l=0\n",
        "#print(img_name)\n",
        "for i in img_name:\n",
        "    img_path = os.path.join(path_4,i)\n",
        "    image = dicom.read_file(img_path )\n",
        "    if image is not None:\n",
        "        image=cv2.resize(image.pixel_array,(28,28))\n",
        "        image= image.reshape(1,28,28)\n",
        "        images.append(image)\n",
        "        labels.append(0)\n"
      ],
      "execution_count": null,
      "outputs": []
    },
    {
      "cell_type": "code",
      "metadata": {
        "id": "uPOOsEqBdwpI",
        "outputId": "e7f21abe-3048-487e-97e3-2c69b891bd55"
      },
      "source": [
        "len(labels)"
      ],
      "execution_count": null,
      "outputs": [
        {
          "output_type": "execute_result",
          "data": {
            "text/plain": [
              "4063"
            ]
          },
          "metadata": {
            "tags": []
          },
          "execution_count": 327
        }
      ]
    },
    {
      "cell_type": "code",
      "metadata": {
        "scrolled": true,
        "id": "6d29qNbYdwpJ"
      },
      "source": [
        "#importing images from source_3 (these are 26000 images given for training in that dataset)\n",
        "#these are images of pneumonia patients so we consider COVID-19 negative\n",
        "path_3 = \"C:/Users/Lenovo/OneDrive/Documents/CSProject/covid/New folder (4)\"\n",
        "img_name = list(os.listdir(path_6))\n",
        "for i in img_name:\n",
        "    img_path = os.path.join(path_6,i)\n",
        "    image = dicom.read_file(img_path)\n",
        "    if image is not None:\n",
        "        image=cv2.resize(image.pixel_array,(28,28))\n",
        "        image= image.reshape(1,28,28)\n",
        "        images.append(image)\n",
        "        labels.append(0)"
      ],
      "execution_count": null,
      "outputs": []
    },
    {
      "cell_type": "code",
      "metadata": {
        "id": "xIFK_4wXdwpJ",
        "outputId": "e029bd91-bb91-419d-93c9-e2a7d5524496"
      },
      "source": [
        "len(labels)"
      ],
      "execution_count": null,
      "outputs": [
        {
          "output_type": "execute_result",
          "data": {
            "text/plain": [
              "30747"
            ]
          },
          "metadata": {
            "tags": []
          },
          "execution_count": 329
        }
      ]
    },
    {
      "cell_type": "code",
      "metadata": {
        "id": "9vbD6LhSdwpJ"
      },
      "source": [
        "images_copy = images\n",
        "labels_copy = labels"
      ],
      "execution_count": null,
      "outputs": []
    },
    {
      "cell_type": "code",
      "metadata": {
        "id": "a_9M29zzdwpK",
        "outputId": "dce143cd-250d-4bf0-9bdc-40d3053d3aaf"
      },
      "source": [
        "from sklearn.model_selection import train_test_split\n",
        "\n",
        "print(len(labels))\n",
        "X_train, X_test, y_train, y_test = train_test_split(np.array(images), np.array(labels), test_size=0.20, random_state=42)\n",
        "#as the images size is large their is no need to give more size to train\n",
        "#we split data into 80:20 percent as train:test set"
      ],
      "execution_count": null,
      "outputs": [
        {
          "output_type": "stream",
          "text": [
            "30747\n"
          ],
          "name": "stdout"
        }
      ]
    },
    {
      "cell_type": "code",
      "metadata": {
        "id": "tDiRFL-idwpK",
        "outputId": "a925fc22-aa43-4cbb-c73e-a06f7972b067"
      },
      "source": [
        "#converting these images to batches of 64\n",
        "test_l= int (len(y_test)/64)\n",
        "train_l= int (len(X_train)/64)\n",
        "print(test_l)\n",
        "train_x=[]\n",
        "train_y=[]\n",
        "test_x=[]\n",
        "test_y=[]\n",
        "for i in range(test_l):\n",
        "    s=[]\n",
        "    z=[]\n",
        "    for e in range(64):\n",
        "        s.append(X_test[((64*i)+e)])\n",
        "        z.append(y_test[((64*i)+e)] )         \n",
        "    test_x.append(s)\n",
        "    test_y.append(z)\n",
        "    \n",
        "test_x=np.array(test_x)\n",
        "test_y=np.array(test_y)\n",
        "\n",
        "for i in range(train_l):\n",
        "    s=[]\n",
        "    z=[]\n",
        "    for e in range(64):\n",
        "        s.append(X_train[((64*i)+e)])\n",
        "        z.append(y_train[((64*i)+e)])         \n",
        "    train_x.append(s)\n",
        "    train_y.append(z)\n",
        "train_x=np.array(train_x)\n",
        "train_y=np.array(train_y)\n",
        "\n",
        "print(test_x.shape)\n",
        "print(train_x.shape)\n",
        "# here we convert test and train set of images and we used batch size of 64\n",
        "# we have total 6150 test images and 26000 train images,we also randomly suffle the data\n",
        "\n"
      ],
      "execution_count": null,
      "outputs": [
        {
          "output_type": "stream",
          "text": [
            "96\n",
            "(96, 64, 1, 28, 28)\n",
            "(384, 64, 1, 28, 28)\n"
          ],
          "name": "stdout"
        }
      ]
    },
    {
      "cell_type": "code",
      "metadata": {
        "id": "OW3pxg6zdwpL"
      },
      "source": [
        "import torch.nn as nn\n",
        "import torch.nn.functional as F\n",
        "import torch.optim as optim\n",
        "import torch\n",
        "class net(nn.Module):\n",
        "  def __init__(self):\n",
        "    super(net,self).__init__()\n",
        "    self.conv1=nn.Conv2d(1,20,kernel_size=8,stride=2,padding=0)\n",
        "    self.mpool1=nn.MaxPool2d(kernel_size=2,stride=1,padding=0)\n",
        "    self.conv2=nn.Conv2d(20,40,kernel_size=4,stride=1,padding=0)\n",
        "    self.mpool2=nn.MaxPool2d(kernel_size=2,stride=1,padding=0)\n",
        "    self.fc1=nn.Linear(36*40,100)\n",
        "    self.fc1_drop=nn.Dropout(0.2)\n",
        "    self.fc2=nn.Linear(100,20)\n",
        "    self.fc3=nn.Linear(20,2)         #output of 2 ()\n",
        "  def forward(self,x):\n",
        "    x = x.view(-1, 1, 28, 28) \n",
        "    x=self.conv1(x)\n",
        "    x=F.relu(x)\n",
        "    x=self.mpool1(x)\n",
        "    x=self.conv2(x)\n",
        "    x=F.relu(x)\n",
        "    x=self.mpool2(x)\n",
        "    x=x.view(-1,40*36)\n",
        "    x=self.fc1(x)\n",
        "    x=F.relu(x)\n",
        "    x=self.fc1_drop(x)\n",
        "    x=self.fc2(x)\n",
        "    x=F.relu(x)\n",
        "    x=self.fc3(x)\n",
        "    x=F.log_softmax(x,dim=1)\n",
        "    return x\n"
      ],
      "execution_count": null,
      "outputs": []
    },
    {
      "cell_type": "code",
      "metadata": {
        "id": "84flEaYmdwpM"
      },
      "source": [
        "Net = net()\n",
        "learning_rate=0.001\n",
        "momentum=0.5\n",
        "num_epochs=10   # it is not taking much epochs to reach the saturation so only 10 epochs are taken\n",
        "# and it is taking so much time for single epoch\n",
        "optimizer = optim.SGD(Net.parameters(), lr=learning_rate,\n",
        "                      momentum=momentum)"
      ],
      "execution_count": null,
      "outputs": []
    },
    {
      "cell_type": "code",
      "metadata": {
        "id": "nyY9bmb6dwpM",
        "outputId": "0cb244d8-3cc4-4946-ad10-5e3ad2c8f25a"
      },
      "source": [
        "print(len(X_train))\n",
        "print(len(X_test))"
      ],
      "execution_count": null,
      "outputs": [
        {
          "output_type": "stream",
          "text": [
            "24597\n",
            "6150\n"
          ],
          "name": "stdout"
        }
      ]
    },
    {
      "cell_type": "code",
      "metadata": {
        "id": "hb19JnW-dwpM",
        "outputId": "460e6256-bf86-4a0a-9ca9-05d4f9bf7b23"
      },
      "source": [
        "criterion = nn.CrossEntropyLoss()\n",
        "train_loss = []\n",
        "train_acc = []\n",
        "\n",
        "\n",
        "for epoch in range(num_epochs):\n",
        "    \n",
        "    running_loss = 0.0 \n",
        "    running_corr = 0\n",
        "        \n",
        "    for i,data in enumerate(train_x):\n",
        "        inputs1 = data\n",
        "        labels1=train_y[i]\n",
        "        inputs=torch.from_numpy(inputs1)\n",
        "        label=torch.from_numpy(labels1)\n",
        "               \n",
        "        # Initializing model gradients to zero\n",
        "        optimizer.zero_grad()\n",
        "        # Data feed-forward through the network\n",
        "        outputs = Net(inputs.float())\n",
        "        # Predicted class is the one with maximum probability\n",
        "        preds = torch.argmax(outputs,dim=1)\n",
        "        # Finding the loss\n",
        "        loss = F.nll_loss(outputs, label.long())\n",
        "        # Calculating gradients\n",
        "        loss.backward()\n",
        "        optimizer.step()\n",
        "\n",
        "        # Accumulating the loss for each batch\n",
        "        running_loss += loss \n",
        "        # Accumulate number of correct predictions\n",
        "        running_corr += torch.sum(preds==label.long())    \n",
        "        \n",
        "   \n",
        "    # Calculating gradients\n",
        "    \n",
        "    # Updating the model parameters\n",
        "   \n",
        "        \n",
        "    epoch_loss = running_loss.item()/(i+1)   #Total loss for one epoch\n",
        "    epoch_acc = running_corr.item()/24597    #24597 are no. train cases\n",
        "    \n",
        "    \n",
        "         \n",
        "    train_loss.append(epoch_loss) #Saving the loss over epochs for plotting the graph\n",
        "    train_acc.append(epoch_acc) #Saving the accuracy over epochs for plotting the graph\n",
        "\n",
        "    print('Epoch {:.0f}/{:.0f} : Training loss: {:.4f} | Training Accuracy: {:.4f}'.format(epoch+1,num_epochs,epoch_loss,epoch_acc*100))\n",
        "       "
      ],
      "execution_count": null,
      "outputs": [
        {
          "output_type": "stream",
          "text": [
            "Epoch 1/10 : Training loss: 0.1224 | Training Accuracy: 97.4224\n",
            "Epoch 2/10 : Training loss: 0.1112 | Training Accuracy: 97.4550\n",
            "Epoch 3/10 : Training loss: 0.1060 | Training Accuracy: 97.4550\n",
            "Epoch 4/10 : Training loss: 0.1004 | Training Accuracy: 97.4875\n",
            "Epoch 5/10 : Training loss: 0.0962 | Training Accuracy: 97.5322\n",
            "Epoch 6/10 : Training loss: 0.0944 | Training Accuracy: 97.5322\n",
            "Epoch 7/10 : Training loss: 0.0919 | Training Accuracy: 97.5810\n",
            "Epoch 8/10 : Training loss: 0.0893 | Training Accuracy: 97.5932\n",
            "Epoch 9/10 : Training loss: 0.0869 | Training Accuracy: 97.6583\n",
            "Epoch 10/10 : Training loss: 0.0853 | Training Accuracy: 97.6664\n"
          ],
          "name": "stdout"
        }
      ]
    },
    {
      "cell_type": "code",
      "metadata": {
        "id": "FzOGT-JwdwpN",
        "outputId": "1127e2be-5a1d-4c0e-b675-ff18f7606452"
      },
      "source": [
        "correct_pred = 0\n",
        "for i in range(len(test_x)):\n",
        "    input1=test_x[i]\n",
        "    label1=test_y[i]\n",
        "    inputs=torch.from_numpy(input1)\n",
        "    labels=torch.from_numpy(label1)\n",
        "       \n",
        "    \n",
        "    # Feedforward train data batch through model\n",
        "    output = Net(inputs.float()) \n",
        "    # Predicted class is the one with maximum probability\n",
        "    preds = torch.argmax(output,dim=1)\n",
        "    correct_pred += torch.sum(preds==labels.long())\n",
        "\n",
        "test_accuracy = correct_pred.item()/6150     # 6150 are no. testing cases\n",
        "print('Testing accuracy = ',test_accuracy*100)\n",
        "\n"
      ],
      "execution_count": null,
      "outputs": [
        {
          "output_type": "stream",
          "text": [
            "Testing accuracy =  97.85365853658536\n"
          ],
          "name": "stdout"
        }
      ]
    },
    {
      "cell_type": "code",
      "metadata": {
        "id": "FCG9l2bUdwpO",
        "outputId": "ffea9f29-fba6-40ee-9b3d-1b0423f0b75d"
      },
      "source": [
        "import matplotlib.pyplot as plt\n",
        "fig = plt.figure(figsize=[15,5]) \n",
        "plt.subplot(121)\n",
        "plt.plot(range(num_epochs),train_loss,'r-',label='Loss') \n",
        "plt.legend(loc='upper right')\n",
        "plt.xlabel('Epochs')\n",
        "plt.ylabel('Training')\n",
        "plt.subplot(122)\n",
        "plt.plot(range(num_epochs),train_acc,'g-',label='Accuracy') \n",
        "plt.legend(loc='upper right')\n",
        "plt.xlabel('Epochs')\n",
        "plt.ylabel('Training')\n",
        "plt.show()"
      ],
      "execution_count": null,
      "outputs": [
        {
          "output_type": "display_data",
          "data": {
            "image/png": "[encoded data removed]",
            "text/plain": [
              "<Figure size 1080x360 with 2 Axes>"
            ]
          },
          "metadata": {
            "tags": [],
            "needs_background": "light"
          }
        }
      ]
    }
  ]
}