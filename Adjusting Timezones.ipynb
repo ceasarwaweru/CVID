{
  "nbformat": 4,
  "nbformat_minor": 0,
  "metadata": {
    "language_info": {
      "name": "python",
      "codemirror_mode": {
        "name": "ipython",
        "version": 3
      },
      "version": "3.7.6-final"
    },
    "orig_nbformat": 2,
    "file_extension": ".py",
    "mimetype": "text/x-python",
    "name": "python",
    "npconvert_exporter": "python",
    "pygments_lexer": "ipython3",
    "version": 3,
    "kernelspec": {
      "name": "python3",
      "display_name": "Python 3"
    },
    "colab": {
      "name": "report_date_adjustment.ipynb",
      "provenance": []
    }
  },
  "cells": [
    {
      "cell_type": "markdown",
      "metadata": {
        "id": "ztN9B8eNpYIL"
      },
      "source": [
        "# Adjusting Timezones\n"
      ]
    },
    {
      "cell_type": "code",
      "metadata": {
        "id": "eVIABZUjpYIU",
        "outputId": "86e6b45e-64bf-4aa8-b063-b01c95139388"
      },
      "source": [
        "from pandas import read_csv\n",
        "tz = read_csv('../src/data/timezones.csv')\n",
        "tz.head()"
      ],
      "execution_count": null,
      "outputs": [
        {
          "output_type": "execute_result",
          "data": {
            "text/plain": [
              "  CountryCode           CountryName      TimeZoneName TimeZoneOffset\n",
              "0          AD               Andorra    Europe/Andorra     UTC +02:00\n",
              "1          AE  United Arab Emirates        Asia/Dubai     UTC +04:00\n",
              "2          AF           Afghanistan        Asia/Kabul     UTC +04:30\n",
              "3          AG   Antigua and Barbuda   America/Antigua     UTC -04:00\n",
              "4          AI              Anguilla  America/Anguilla     UTC -04:00"
            ],
            "text/html": [
              "<div>\n",
              "<style scoped>\n",
              "    .dataframe tbody tr th:only-of-type {\n",
              "        vertical-align: middle;\n",
              "    }\n",
              "\n",
              "    .dataframe tbody tr th {\n",
              "        vertical-align: top;\n",
              "    }\n",
              "\n",
              "    .dataframe thead th {\n",
              "        text-align: right;\n",
              "    }\n",
              "</style>\n",
              "<table border=\"1\" class=\"dataframe\">\n",
              "  <thead>\n",
              "    <tr style=\"text-align: right;\">\n",
              "      <th></th>\n",
              "      <th>CountryCode</th>\n",
              "      <th>CountryName</th>\n",
              "      <th>TimeZoneName</th>\n",
              "      <th>TimeZoneOffset</th>\n",
              "    </tr>\n",
              "  </thead>\n",
              "  <tbody>\n",
              "    <tr>\n",
              "      <th>0</th>\n",
              "      <td>AD</td>\n",
              "      <td>Andorra</td>\n",
              "      <td>Europe/Andorra</td>\n",
              "      <td>UTC +02:00</td>\n",
              "    </tr>\n",
              "    <tr>\n",
              "      <th>1</th>\n",
              "      <td>AE</td>\n",
              "      <td>United Arab Emirates</td>\n",
              "      <td>Asia/Dubai</td>\n",
              "      <td>UTC +04:00</td>\n",
              "    </tr>\n",
              "    <tr>\n",
              "      <th>2</th>\n",
              "      <td>AF</td>\n",
              "      <td>Afghanistan</td>\n",
              "      <td>Asia/Kabul</td>\n",
              "      <td>UTC +04:30</td>\n",
              "    </tr>\n",
              "    <tr>\n",
              "      <th>3</th>\n",
              "      <td>AG</td>\n",
              "      <td>Antigua and Barbuda</td>\n",
              "      <td>America/Antigua</td>\n",
              "      <td>UTC -04:00</td>\n",
              "    </tr>\n",
              "    <tr>\n",
              "      <th>4</th>\n",
              "      <td>AI</td>\n",
              "      <td>Anguilla</td>\n",
              "      <td>America/Anguilla</td>\n",
              "      <td>UTC -04:00</td>\n",
              "    </tr>\n",
              "  </tbody>\n",
              "</table>\n",
              "</div>"
            ]
          },
          "metadata": {
            "tags": []
          },
          "execution_count": 1
        }
      ]
    },
    {
      "cell_type": "markdown",
      "metadata": {
        "id": "JmAIVcfWpYIX"
      },
      "source": [
        "Compute the UTC offset as a number to be able to perform math with it, e.g. UTC +02:00 -> 2.0"
      ]
    },
    {
      "cell_type": "code",
      "metadata": {
        "id": "r9SmX6kppYIX",
        "outputId": "ec395ca2-a5fb-4ad4-8f26-4a303aec0d03"
      },
      "source": [
        "import re\n",
        "tz.TimeZoneOffset = tz.TimeZoneOffset.apply(lambda x: 'UTC +00:00' if x == 'UTC' else x)\n",
        "tz['UTCOffset'] = tz.TimeZoneOffset.apply(\n",
        "    lambda x: re.sub(r'(\\d\\d):(\\d\\d)', lambda g: str(int(g.group(1)) + int(g.group(2)) / 60), x[4:]))\n",
        "tz['UTCOffset'] = tz.UTCOffset.apply(lambda x: float(x))\n",
        "tz.head()"
      ],
      "execution_count": null,
      "outputs": [
        {
          "output_type": "execute_result",
          "data": {
            "text/plain": [
              "  CountryCode           CountryName      TimeZoneName TimeZoneOffset  \\\n",
              "0          AD               Andorra    Europe/Andorra     UTC +02:00   \n",
              "1          AE  United Arab Emirates        Asia/Dubai     UTC +04:00   \n",
              "2          AF           Afghanistan        Asia/Kabul     UTC +04:30   \n",
              "3          AG   Antigua and Barbuda   America/Antigua     UTC -04:00   \n",
              "4          AI              Anguilla  America/Anguilla     UTC -04:00   \n",
              "\n",
              "   UTCOffset  \n",
              "0        2.0  \n",
              "1        4.0  \n",
              "2        4.5  \n",
              "3       -4.0  \n",
              "4       -4.0  "
            ],
            "text/html": [
              "<div>\n",
              "<style scoped>\n",
              "    .dataframe tbody tr th:only-of-type {\n",
              "        vertical-align: middle;\n",
              "    }\n",
              "\n",
              "    .dataframe tbody tr th {\n",
              "        vertical-align: top;\n",
              "    }\n",
              "\n",
              "    .dataframe thead th {\n",
              "        text-align: right;\n",
              "    }\n",
              "</style>\n",
              "<table border=\"1\" class=\"dataframe\">\n",
              "  <thead>\n",
              "    <tr style=\"text-align: right;\">\n",
              "      <th></th>\n",
              "      <th>CountryCode</th>\n",
              "      <th>CountryName</th>\n",
              "      <th>TimeZoneName</th>\n",
              "      <th>TimeZoneOffset</th>\n",
              "      <th>UTCOffset</th>\n",
              "    </tr>\n",
              "  </thead>\n",
              "  <tbody>\n",
              "    <tr>\n",
              "      <th>0</th>\n",
              "      <td>AD</td>\n",
              "      <td>Andorra</td>\n",
              "      <td>Europe/Andorra</td>\n",
              "      <td>UTC +02:00</td>\n",
              "      <td>2.0</td>\n",
              "    </tr>\n",
              "    <tr>\n",
              "      <th>1</th>\n",
              "      <td>AE</td>\n",
              "      <td>United Arab Emirates</td>\n",
              "      <td>Asia/Dubai</td>\n",
              "      <td>UTC +04:00</td>\n",
              "      <td>4.0</td>\n",
              "    </tr>\n",
              "    <tr>\n",
              "      <th>2</th>\n",
              "      <td>AF</td>\n",
              "      <td>Afghanistan</td>\n",
              "      <td>Asia/Kabul</td>\n",
              "      <td>UTC +04:30</td>\n",
              "      <td>4.5</td>\n",
              "    </tr>\n",
              "    <tr>\n",
              "      <th>3</th>\n",
              "      <td>AG</td>\n",
              "      <td>Antigua and Barbuda</td>\n",
              "      <td>America/Antigua</td>\n",
              "      <td>UTC -04:00</td>\n",
              "      <td>-4.0</td>\n",
              "    </tr>\n",
              "    <tr>\n",
              "      <th>4</th>\n",
              "      <td>AI</td>\n",
              "      <td>Anguilla</td>\n",
              "      <td>America/Anguilla</td>\n",
              "      <td>UTC -04:00</td>\n",
              "      <td>-4.0</td>\n",
              "    </tr>\n",
              "  </tbody>\n",
              "</table>\n",
              "</div>"
            ]
          },
          "metadata": {
            "tags": []
          },
          "execution_count": 2
        }
      ]
    },
    {
      "cell_type": "markdown",
      "metadata": {
        "id": "H1zgZ0lGpYIY"
      },
      "source": [
        "CET is the timezone of the ECDC reports, to go from GMT (UTC) to CET just substract 2"
      ]
    },
    {
      "cell_type": "code",
      "metadata": {
        "id": "F3jH6AcipYIY",
        "outputId": "9df062ce-da39-4a71-9254-46852922ec6e"
      },
      "source": [
        "tz['CETOffset'] = tz.UTCOffset - 2\n",
        "tz.head()"
      ],
      "execution_count": null,
      "outputs": [
        {
          "output_type": "execute_result",
          "data": {
            "text/plain": [
              "  CountryCode           CountryName      TimeZoneName TimeZoneOffset  \\\n",
              "0          AD               Andorra    Europe/Andorra     UTC +02:00   \n",
              "1          AE  United Arab Emirates        Asia/Dubai     UTC +04:00   \n",
              "2          AF           Afghanistan        Asia/Kabul     UTC +04:30   \n",
              "3          AG   Antigua and Barbuda   America/Antigua     UTC -04:00   \n",
              "4          AI              Anguilla  America/Anguilla     UTC -04:00   \n",
              "\n",
              "   UTCOffset  CETOffset  \n",
              "0        2.0        0.0  \n",
              "1        4.0        2.0  \n",
              "2        4.5        2.5  \n",
              "3       -4.0       -6.0  \n",
              "4       -4.0       -6.0  "
            ],
            "text/html": [
              "<div>\n",
              "<style scoped>\n",
              "    .dataframe tbody tr th:only-of-type {\n",
              "        vertical-align: middle;\n",
              "    }\n",
              "\n",
              "    .dataframe tbody tr th {\n",
              "        vertical-align: top;\n",
              "    }\n",
              "\n",
              "    .dataframe thead th {\n",
              "        text-align: right;\n",
              "    }\n",
              "</style>\n",
              "<table border=\"1\" class=\"dataframe\">\n",
              "  <thead>\n",
              "    <tr style=\"text-align: right;\">\n",
              "      <th></th>\n",
              "      <th>CountryCode</th>\n",
              "      <th>CountryName</th>\n",
              "      <th>TimeZoneName</th>\n",
              "      <th>TimeZoneOffset</th>\n",
              "      <th>UTCOffset</th>\n",
              "      <th>CETOffset</th>\n",
              "    </tr>\n",
              "  </thead>\n",
              "  <tbody>\n",
              "    <tr>\n",
              "      <th>0</th>\n",
              "      <td>AD</td>\n",
              "      <td>Andorra</td>\n",
              "      <td>Europe/Andorra</td>\n",
              "      <td>UTC +02:00</td>\n",
              "      <td>2.0</td>\n",
              "      <td>0.0</td>\n",
              "    </tr>\n",
              "    <tr>\n",
              "      <th>1</th>\n",
              "      <td>AE</td>\n",
              "      <td>United Arab Emirates</td>\n",
              "      <td>Asia/Dubai</td>\n",
              "      <td>UTC +04:00</td>\n",
              "      <td>4.0</td>\n",
              "      <td>2.0</td>\n",
              "    </tr>\n",
              "    <tr>\n",
              "      <th>2</th>\n",
              "      <td>AF</td>\n",
              "      <td>Afghanistan</td>\n",
              "      <td>Asia/Kabul</td>\n",
              "      <td>UTC +04:30</td>\n",
              "      <td>4.5</td>\n",
              "      <td>2.5</td>\n",
              "    </tr>\n",
              "    <tr>\n",
              "      <th>3</th>\n",
              "      <td>AG</td>\n",
              "      <td>Antigua and Barbuda</td>\n",
              "      <td>America/Antigua</td>\n",
              "      <td>UTC -04:00</td>\n",
              "      <td>-4.0</td>\n",
              "      <td>-6.0</td>\n",
              "    </tr>\n",
              "    <tr>\n",
              "      <th>4</th>\n",
              "      <td>AI</td>\n",
              "      <td>Anguilla</td>\n",
              "      <td>America/Anguilla</td>\n",
              "      <td>UTC -04:00</td>\n",
              "      <td>-4.0</td>\n",
              "      <td>-6.0</td>\n",
              "    </tr>\n",
              "  </tbody>\n",
              "</table>\n",
              "</div>"
            ]
          },
          "metadata": {
            "tags": []
          },
          "execution_count": 3
        }
      ]
    },
    {
      "cell_type": "markdown",
      "metadata": {
        "id": "saZRBn4FpYIZ"
      },
      "source": [
        "ECDC reports come out at 10 AM CET, assuming that the data will be coming from a local authority reported by 8 PM local time we can compute the cutoff time for the data to be included in the ECDC report and derive a date offset"
      ]
    },
    {
      "cell_type": "code",
      "metadata": {
        "id": "2V4u6uPOpYIZ",
        "outputId": "bae409c2-acb8-49c7-acd9-faf33cc19ada"
      },
      "source": [
        "# \n",
        "tz['ReportOffset'] = tz.CETOffset + 10\n",
        "tz['ReportOffsetDays'] = tz.ReportOffset.apply(lambda x: (x - 20) // 24).astype(int)\n",
        "tz.head()"
      ],
      "execution_count": null,
      "outputs": [
        {
          "output_type": "execute_result",
          "data": {
            "text/plain": [
              "  CountryCode           CountryName      TimeZoneName TimeZoneOffset  \\\n",
              "0          AD               Andorra    Europe/Andorra     UTC +02:00   \n",
              "1          AE  United Arab Emirates        Asia/Dubai     UTC +04:00   \n",
              "2          AF           Afghanistan        Asia/Kabul     UTC +04:30   \n",
              "3          AG   Antigua and Barbuda   America/Antigua     UTC -04:00   \n",
              "4          AI              Anguilla  America/Anguilla     UTC -04:00   \n",
              "\n",
              "   UTCOffset  CETOffset  ReportOffset  ReportOffsetDays  \n",
              "0        2.0        0.0          10.0                -1  \n",
              "1        4.0        2.0          12.0                -1  \n",
              "2        4.5        2.5          12.5                -1  \n",
              "3       -4.0       -6.0           4.0                -1  \n",
              "4       -4.0       -6.0           4.0                -1  "
            ],
            "text/html": [
              "<div>\n",
              "<style scoped>\n",
              "    .dataframe tbody tr th:only-of-type {\n",
              "        vertical-align: middle;\n",
              "    }\n",
              "\n",
              "    .dataframe tbody tr th {\n",
              "        vertical-align: top;\n",
              "    }\n",
              "\n",
              "    .dataframe thead th {\n",
              "        text-align: right;\n",
              "    }\n",
              "</style>\n",
              "<table border=\"1\" class=\"dataframe\">\n",
              "  <thead>\n",
              "    <tr style=\"text-align: right;\">\n",
              "      <th></th>\n",
              "      <th>CountryCode</th>\n",
              "      <th>CountryName</th>\n",
              "      <th>TimeZoneName</th>\n",
              "      <th>TimeZoneOffset</th>\n",
              "      <th>UTCOffset</th>\n",
              "      <th>CETOffset</th>\n",
              "      <th>ReportOffset</th>\n",
              "      <th>ReportOffsetDays</th>\n",
              "    </tr>\n",
              "  </thead>\n",
              "  <tbody>\n",
              "    <tr>\n",
              "      <th>0</th>\n",
              "      <td>AD</td>\n",
              "      <td>Andorra</td>\n",
              "      <td>Europe/Andorra</td>\n",
              "      <td>UTC +02:00</td>\n",
              "      <td>2.0</td>\n",
              "      <td>0.0</td>\n",
              "      <td>10.0</td>\n",
              "      <td>-1</td>\n",
              "    </tr>\n",
              "    <tr>\n",
              "      <th>1</th>\n",
              "      <td>AE</td>\n",
              "      <td>United Arab Emirates</td>\n",
              "      <td>Asia/Dubai</td>\n",
              "      <td>UTC +04:00</td>\n",
              "      <td>4.0</td>\n",
              "      <td>2.0</td>\n",
              "      <td>12.0</td>\n",
              "      <td>-1</td>\n",
              "    </tr>\n",
              "    <tr>\n",
              "      <th>2</th>\n",
              "      <td>AF</td>\n",
              "      <td>Afghanistan</td>\n",
              "      <td>Asia/Kabul</td>\n",
              "      <td>UTC +04:30</td>\n",
              "      <td>4.5</td>\n",
              "      <td>2.5</td>\n",
              "      <td>12.5</td>\n",
              "      <td>-1</td>\n",
              "    </tr>\n",
              "    <tr>\n",
              "      <th>3</th>\n",
              "      <td>AG</td>\n",
              "      <td>Antigua and Barbuda</td>\n",
              "      <td>America/Antigua</td>\n",
              "      <td>UTC -04:00</td>\n",
              "      <td>-4.0</td>\n",
              "      <td>-6.0</td>\n",
              "      <td>4.0</td>\n",
              "      <td>-1</td>\n",
              "    </tr>\n",
              "    <tr>\n",
              "      <th>4</th>\n",
              "      <td>AI</td>\n",
              "      <td>Anguilla</td>\n",
              "      <td>America/Anguilla</td>\n",
              "      <td>UTC -04:00</td>\n",
              "      <td>-4.0</td>\n",
              "      <td>-6.0</td>\n",
              "      <td>4.0</td>\n",
              "      <td>-1</td>\n",
              "    </tr>\n",
              "  </tbody>\n",
              "</table>\n",
              "</div>"
            ]
          },
          "metadata": {
            "tags": []
          },
          "execution_count": 4
        }
      ]
    }
  ]
}